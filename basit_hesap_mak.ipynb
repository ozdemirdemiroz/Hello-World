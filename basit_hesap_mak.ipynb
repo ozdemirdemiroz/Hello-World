{
  "nbformat": 4,
  "nbformat_minor": 0,
  "metadata": {
    "colab": {
      "provenance": [],
      "authorship_tag": "ABX9TyPbUt6kIwamOlwiZnZAaEzY",
      "include_colab_link": true
    },
    "kernelspec": {
      "name": "python3",
      "display_name": "Python 3"
    },
    "language_info": {
      "name": "python"
    }
  },
  "cells": [
    {
      "cell_type": "markdown",
      "metadata": {
        "id": "view-in-github",
        "colab_type": "text"
      },
      "source": [
        "<a href=\"https://colab.research.google.com/github/ozdemirdemiroz/Hello-World/blob/main/basit_hesap_mak.ipynb\" target=\"_parent\"><img src=\"https://colab.research.google.com/assets/colab-badge.svg\" alt=\"Open In Colab\"/></a>"
      ]
    },
    {
      "cell_type": "code",
      "execution_count": null,
      "metadata": {
        "id": "u1ON-reBdfva"
      },
      "outputs": [],
      "source": [
        "x=int(input (\"ilk sayıyı giriniz : \"))\n",
        "y=int(input (\"ikinci sayıyı giriniz : \"))\n",
        "toplama=x+y\n",
        "cikarma=x-y\n",
        "carpma=x*y\n",
        "bolme=x/y\n",
        "\n",
        "print(\"iki sayının toplamı = \" + str(toplama))\n",
        "print(\"iki sayının farkı = \" + str(cikarma))\n",
        "print(\"iki sayının çarpımı = \" + str(carpma))\n",
        "print(\"iki sayının bölümü = \" + str(bolme))\n"
      ]
    }
  ]
}