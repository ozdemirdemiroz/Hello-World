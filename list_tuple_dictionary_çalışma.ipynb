{
  "nbformat": 4,
  "nbformat_minor": 0,
  "metadata": {
    "colab": {
      "provenance": [],
      "authorship_tag": "ABX9TyMbEqmwVGiAmTo9gSYWGyXM",
      "include_colab_link": true
    },
    "kernelspec": {
      "name": "python3",
      "display_name": "Python 3"
    },
    "language_info": {
      "name": "python"
    }
  },
  "cells": [
    {
      "cell_type": "markdown",
      "metadata": {
        "id": "view-in-github",
        "colab_type": "text"
      },
      "source": [
        "<a href=\"https://colab.research.google.com/github/ozdemirdemiroz/Hello-World/blob/main/list_tuple_dictionary_%C3%A7al%C4%B1%C5%9Fma.ipynb\" target=\"_parent\"><img src=\"https://colab.research.google.com/assets/colab-badge.svg\" alt=\"Open In Colab\"/></a>"
      ]
    },
    {
      "cell_type": "markdown",
      "source": [
        "# **LİST**"
      ],
      "metadata": {
        "id": "hf-mlIpu6-Fh"
      }
    },
    {
      "cell_type": "code",
      "execution_count": 24,
      "metadata": {
        "id": "03RmggUR64lt"
      },
      "outputs": [],
      "source": [
        "notlar=[60,90,100,80,20] #list belirtirken köşeli parentez ile belirtiyoruz içine elementleri yazıyoruz"
      ]
    },
    {
      "cell_type": "code",
      "source": [
        "notlar"
      ],
      "metadata": {
        "colab": {
          "base_uri": "https://localhost:8080/"
        },
        "id": "3mI8iMjw7b6a",
        "outputId": "a6dd8dc7-4b12-4469-e965-84ef27777f28"
      },
      "execution_count": 22,
      "outputs": [
        {
          "output_type": "execute_result",
          "data": {
            "text/plain": [
              "[60, 90, 100, 80, 20]"
            ]
          },
          "metadata": {},
          "execution_count": 22
        }
      ]
    },
    {
      "cell_type": "code",
      "source": [
        "ogr_1=20\n",
        "ogr_2=70\n",
        "ogr_3=85"
      ],
      "metadata": {
        "id": "HwwVsT1P7dDt"
      },
      "execution_count": 5,
      "outputs": []
    },
    {
      "cell_type": "code",
      "source": [
        "notlar_2=[ogr_1,ogr_2,ogr_3] #önceden tanımlanan değerleride list in içine bu şeklide girebiliyoruz\n",
        "notlar_2"
      ],
      "metadata": {
        "colab": {
          "base_uri": "https://localhost:8080/"
        },
        "id": "7Go9i_Sd7oBt",
        "outputId": "9af2be53-4c87-464e-de12-5b58dbb604b6"
      },
      "execution_count": 6,
      "outputs": [
        {
          "output_type": "execute_result",
          "data": {
            "text/plain": [
              "[20, 70, 85]"
            ]
          },
          "metadata": {},
          "execution_count": 6
        }
      ]
    },
    {
      "cell_type": "code",
      "source": [
        "#indeksleme , stringlerdeki gibi  0,1,2,3, diye \n",
        "notlar[0]"
      ],
      "metadata": {
        "colab": {
          "base_uri": "https://localhost:8080/"
        },
        "id": "EvR29oAv7ui6",
        "outputId": "eb79a24e-0b11-488a-9565-114db13f7de8"
      },
      "execution_count": 7,
      "outputs": [
        {
          "output_type": "execute_result",
          "data": {
            "text/plain": [
              "60"
            ]
          },
          "metadata": {},
          "execution_count": 7
        }
      ]
    },
    {
      "cell_type": "code",
      "source": [
        "#slicing\n",
        "notlar[1:5:2] #1.indeksden başla 5 inci indekse kadar git , ikişer ikişer "
      ],
      "metadata": {
        "colab": {
          "base_uri": "https://localhost:8080/"
        },
        "id": "gNjEjRHb8JF6",
        "outputId": "a6fa344c-40b6-428e-bad2-b3fae2ed41e6"
      },
      "execution_count": 13,
      "outputs": [
        {
          "output_type": "execute_result",
          "data": {
            "text/plain": [
              "[90, 80]"
            ]
          },
          "metadata": {},
          "execution_count": 13
        }
      ]
    },
    {
      "cell_type": "code",
      "source": [
        "#mutable olduğundan elemanlar güncellenebilir\n",
        "notlar[1]+=4 #indeks 1 e 4 ekledik \n",
        "notlar"
      ],
      "metadata": {
        "colab": {
          "base_uri": "https://localhost:8080/"
        },
        "id": "xudv_pj3853R",
        "outputId": "e9fad088-14eb-4900-cb15-9cc4076ac4f8"
      },
      "execution_count": 16,
      "outputs": [
        {
          "output_type": "execute_result",
          "data": {
            "text/plain": [
              "[60, 94, 100, 80, 20]"
            ]
          },
          "metadata": {},
          "execution_count": 16
        }
      ]
    },
    {
      "cell_type": "code",
      "source": [
        "notlar[0:3]=70,100,95 #0 ,1 ,2 indeksleirni güncelledik \n",
        "notlar"
      ],
      "metadata": {
        "colab": {
          "base_uri": "https://localhost:8080/"
        },
        "id": "_oVRJBJO9JMm",
        "outputId": "e94e4571-ccf7-4789-ab87-7365e182a3fb"
      },
      "execution_count": 26,
      "outputs": [
        {
          "output_type": "execute_result",
          "data": {
            "text/plain": [
              "[70, 100, 95, 80, 20]"
            ]
          },
          "metadata": {},
          "execution_count": 26
        }
      ]
    },
    {
      "cell_type": "code",
      "source": [
        "len(notlar) #listede kaç eleman var"
      ],
      "metadata": {
        "colab": {
          "base_uri": "https://localhost:8080/"
        },
        "id": "CMzMpvNp-Vvz",
        "outputId": "94ab39c4-e30c-49ac-fba5-e4f76edfe73a"
      },
      "execution_count": 28,
      "outputs": [
        {
          "output_type": "execute_result",
          "data": {
            "text/plain": [
              "5"
            ]
          },
          "metadata": {},
          "execution_count": 28
        }
      ]
    },
    {
      "cell_type": "code",
      "source": [
        "# append() listenin sonuna eleman ekler\n",
        "#extend() listenin sonuna birden çok eleman ekler\n",
        "notlar_2.append(\"yeninot\")\n"
      ],
      "metadata": {
        "id": "bWoYFDRy-cn3"
      },
      "execution_count": 30,
      "outputs": []
    },
    {
      "cell_type": "code",
      "source": [
        "notlar_2. extend([40,41,42])\n",
        "notlar_2"
      ],
      "metadata": {
        "colab": {
          "base_uri": "https://localhost:8080/"
        },
        "id": "mNbijhaJ-y4i",
        "outputId": "c6e10e73-c9c5-431d-aafc-9c499e6a27f7"
      },
      "execution_count": 33,
      "outputs": [
        {
          "output_type": "execute_result",
          "data": {
            "text/plain": [
              "[20, 70, 85, 'yeninot', 40, 41, 42]"
            ]
          },
          "metadata": {},
          "execution_count": 33
        }
      ]
    },
    {
      "cell_type": "code",
      "source": [
        "# insert()  belirtilen indekse istenilen değeri ekler , sonraki indekler 1 kayar\n",
        "notlar_2.insert(1,\"yeni insert\")\n",
        "notlar_2"
      ],
      "metadata": {
        "colab": {
          "base_uri": "https://localhost:8080/"
        },
        "id": "kxt2qZpW_GV0",
        "outputId": "0c58f129-d027-47ca-cdbe-284fcba4bbc6"
      },
      "execution_count": 34,
      "outputs": [
        {
          "output_type": "execute_result",
          "data": {
            "text/plain": [
              "[20, 'yeni insert', 70, 85, 'yeninot', 40, 41, 42]"
            ]
          },
          "metadata": {},
          "execution_count": 34
        }
      ]
    },
    {
      "cell_type": "code",
      "source": [
        "#remove() içine yazılan değeri  siler , yoksa hata veirir\n",
        "notlar_2.remove(41)\n",
        "notlar_2"
      ],
      "metadata": {
        "colab": {
          "base_uri": "https://localhost:8080/"
        },
        "id": "zOHgiJGq_5Tf",
        "outputId": "48368e54-56b3-45a0-a7be-da3b961468be"
      },
      "execution_count": 35,
      "outputs": [
        {
          "output_type": "execute_result",
          "data": {
            "text/plain": [
              "[20, 'yeni insert', 70, 85, 'yeninot', 40, 42]"
            ]
          },
          "metadata": {},
          "execution_count": 35
        }
      ]
    },
    {
      "cell_type": "code",
      "source": [
        "#pop() belirtilen indeks dekini siler ve sildiği değeri döndürür\n",
        "\n",
        "notlar_2.pop(4)"
      ],
      "metadata": {
        "colab": {
          "base_uri": "https://localhost:8080/",
          "height": 35
        },
        "id": "wuiyBMUCANFB",
        "outputId": "9e69a0f5-e378-48f5-8385-d11fa7d383d0"
      },
      "execution_count": 36,
      "outputs": [
        {
          "output_type": "execute_result",
          "data": {
            "text/plain": [
              "'yeninot'"
            ],
            "application/vnd.google.colaboratory.intrinsic+json": {
              "type": "string"
            }
          },
          "metadata": {},
          "execution_count": 36
        }
      ]
    },
    {
      "cell_type": "code",
      "source": [
        "# count() içine girilen değeri listede kaçtane olduğunu sayar\n",
        "liste1=[1,2,3,4,4,4,2,1,1,1]\n",
        "print(liste1.count(1))\n",
        "print(liste1.count(2))\n",
        "print(liste1.count(3))\n",
        "print(liste1.count(4))"
      ],
      "metadata": {
        "colab": {
          "base_uri": "https://localhost:8080/"
        },
        "id": "eJF8aHuWAlvN",
        "outputId": "180e82a2-5c63-455f-fb1c-af81ced1d424"
      },
      "execution_count": 39,
      "outputs": [
        {
          "output_type": "stream",
          "name": "stdout",
          "text": [
            "4\n",
            "2\n",
            "1\n",
            "3\n"
          ]
        }
      ]
    },
    {
      "cell_type": "code",
      "source": [
        "#aliasing , listelere verdiğimiz isimler onların etikentleri bu yüzden iki listeyi birbirine eşitleyince aslında aynı listeden bahsediyoruz . birinde yapılan değişiklikler ötekisinide etki ediypr\n",
        "L1=[1,2,3]\n",
        "L2=L1\n",
        "L1[0]=5\n",
        "print(L1)\n",
        "print(L2)\n",
        "# L1 de ilk elemanı 5 ile değiştirdik ama L2 de de ilk eleman değişmiş oldu "
      ],
      "metadata": {
        "colab": {
          "base_uri": "https://localhost:8080/"
        },
        "id": "h9R09nvaBTA4",
        "outputId": "cb95b7bd-e262-4a8e-fb7b-843a6317764e"
      },
      "execution_count": 40,
      "outputs": [
        {
          "output_type": "stream",
          "name": "stdout",
          "text": [
            "[5, 2, 3]\n",
            "[5, 2, 3]\n"
          ]
        }
      ]
    },
    {
      "cell_type": "code",
      "source": [
        "#copy() ile bunun önne geçebiliriz\n",
        "L3=L1.copy()\n",
        "L1[0]=1\n",
        "print(L1)\n",
        "print(L2)\n",
        "print(L3) #yapılan değişiklik copy ile oluşturulan L3 ü etkilemedi"
      ],
      "metadata": {
        "colab": {
          "base_uri": "https://localhost:8080/"
        },
        "id": "vNElLDfiCbeg",
        "outputId": "16e05465-461c-4b29-b5bf-de097e7a09de"
      },
      "execution_count": 41,
      "outputs": [
        {
          "output_type": "stream",
          "name": "stdout",
          "text": [
            "[1, 2, 3]\n",
            "[1, 2, 3]\n",
            "[5, 2, 3]\n"
          ]
        }
      ]
    },
    {
      "cell_type": "code",
      "source": [
        "# concatanetion  , ili listeyi birleştirmek i , stringlerdeki gibi + ile yapılıyor\n",
        "L4=L1+L3\n",
        "print(L4)"
      ],
      "metadata": {
        "colab": {
          "base_uri": "https://localhost:8080/"
        },
        "id": "fCUsoQg3DE4L",
        "outputId": "cca21d79-fd00-4072-9e35-622b6e37866a"
      },
      "execution_count": 42,
      "outputs": [
        {
          "output_type": "stream",
          "name": "stdout",
          "text": [
            "[1, 2, 3, 5, 2, 3]\n"
          ]
        }
      ]
    },
    {
      "cell_type": "code",
      "source": [
        "#reverse() listeyi tersine çevirir ,  ve listeyi bunun ile değiştiri\n",
        "L1.reverse()\n",
        "L1_reverse2 = L1[::1]\n",
        "print(L1)\n",
        "print(L1_reverse2) #ikiside aynı şeyi yapıyor"
      ],
      "metadata": {
        "colab": {
          "base_uri": "https://localhost:8080/"
        },
        "id": "d5YFHYeKDd9C",
        "outputId": "44fa1992-0b69-4514-fe47-b068834f7c1d"
      },
      "execution_count": 50,
      "outputs": [
        {
          "output_type": "stream",
          "name": "stdout",
          "text": [
            "[3, 2, 1]\n",
            "[3, 2, 1]\n"
          ]
        }
      ]
    },
    {
      "cell_type": "code",
      "source": [
        "#sorting  ,  sorted() , sort()\n",
        "sırala1=[3,1,5,4,2]\n",
        "sırala2=[3,1,5,4,2]\n",
        "sırala1.sort() #sort() listenin yerine yazar\n",
        "sırala1"
      ],
      "metadata": {
        "colab": {
          "base_uri": "https://localhost:8080/"
        },
        "id": "kQlOAhfGD9QV",
        "outputId": "acb1de80-3540-4899-a9cc-3618a15ccec6"
      },
      "execution_count": 51,
      "outputs": [
        {
          "output_type": "execute_result",
          "data": {
            "text/plain": [
              "[1, 2, 3, 4, 5]"
            ]
          },
          "metadata": {},
          "execution_count": 51
        }
      ]
    },
    {
      "cell_type": "code",
      "source": [
        "sıralanmış=sorted(sırala2) # sorted() listenin orjinalini değiştirmez\n",
        "print(sıralanmış)\n",
        "print(sırala2)"
      ],
      "metadata": {
        "colab": {
          "base_uri": "https://localhost:8080/"
        },
        "id": "vtkYAhY2FBa4",
        "outputId": "b4b884d2-b341-42cf-cc83-e8602124b339"
      },
      "execution_count": 52,
      "outputs": [
        {
          "output_type": "stream",
          "name": "stdout",
          "text": [
            "[1, 2, 3, 4, 5]\n",
            "[3, 1, 5, 4, 2]\n"
          ]
        }
      ]
    },
    {
      "cell_type": "code",
      "source": [],
      "metadata": {
        "id": "Zk0nbX8LBKXN"
      },
      "execution_count": null,
      "outputs": []
    },
    {
      "cell_type": "markdown",
      "source": [
        "# **tuple**"
      ],
      "metadata": {
        "id": "_bNHeZnnG8HX"
      }
    },
    {
      "cell_type": "code",
      "source": [
        "koordinat=(39.234 ,32.445)"
      ],
      "metadata": {
        "id": "yLwVaqL1BBCu"
      },
      "execution_count": 54,
      "outputs": []
    },
    {
      "cell_type": "code",
      "source": [
        "koordinat[0]=39.453 #tuple ları elemanlarını güncelleyemiyoruz"
      ],
      "metadata": {
        "colab": {
          "base_uri": "https://localhost:8080/",
          "height": 169
        },
        "id": "LVlluWHvHPCg",
        "outputId": "2f1b7bec-8925-4f42-e206-904a3d2d5ac9"
      },
      "execution_count": 55,
      "outputs": [
        {
          "output_type": "error",
          "ename": "TypeError",
          "evalue": "ignored",
          "traceback": [
            "\u001b[0;31m---------------------------------------------------------------------------\u001b[0m",
            "\u001b[0;31mTypeError\u001b[0m                                 Traceback (most recent call last)",
            "\u001b[0;32m<ipython-input-55-616e60fe725e>\u001b[0m in \u001b[0;36m<module>\u001b[0;34m\u001b[0m\n\u001b[0;32m----> 1\u001b[0;31m \u001b[0mkoordinat\u001b[0m\u001b[0;34m[\u001b[0m\u001b[0;36m0\u001b[0m\u001b[0;34m]\u001b[0m\u001b[0;34m=\u001b[0m\u001b[0;36m39.453\u001b[0m\u001b[0;34m\u001b[0m\u001b[0;34m\u001b[0m\u001b[0m\n\u001b[0m",
            "\u001b[0;31mTypeError\u001b[0m: 'tuple' object does not support item assignment"
          ]
        }
      ]
    },
    {
      "cell_type": "code",
      "source": [
        "x=2\n",
        "y=5\n",
        "tu=(x,y)"
      ],
      "metadata": {
        "id": "sVSEAF_cHZJR"
      },
      "execution_count": 57,
      "outputs": []
    },
    {
      "cell_type": "code",
      "source": [
        "(x,y)=(y,x) #x ve y nin değerlerini yer değiştirmiş olduk "
      ],
      "metadata": {
        "id": "9pPKXNGSH0jK"
      },
      "execution_count": 58,
      "outputs": []
    },
    {
      "cell_type": "code",
      "source": [
        "print(x)\n",
        "print(y)"
      ],
      "metadata": {
        "colab": {
          "base_uri": "https://localhost:8080/"
        },
        "id": "KA6I0hz_H8VB",
        "outputId": "7ff202c5-b9d6-44c8-9cbd-290ac47f6078"
      },
      "execution_count": 59,
      "outputs": [
        {
          "output_type": "stream",
          "name": "stdout",
          "text": [
            "5\n",
            "2\n"
          ]
        }
      ]
    },
    {
      "cell_type": "code",
      "source": [
        "#listede varmı kontrolü\n",
        "3 in tu"
      ],
      "metadata": {
        "colab": {
          "base_uri": "https://localhost:8080/"
        },
        "id": "7mKjB7fvIBLD",
        "outputId": "7f082949-b823-4977-f345-f9316c520303"
      },
      "execution_count": 60,
      "outputs": [
        {
          "output_type": "execute_result",
          "data": {
            "text/plain": [
              "False"
            ]
          },
          "metadata": {},
          "execution_count": 60
        }
      ]
    },
    {
      "cell_type": "code",
      "source": [
        "1 in L1"
      ],
      "metadata": {
        "colab": {
          "base_uri": "https://localhost:8080/"
        },
        "id": "hZVGRLl3IYIG",
        "outputId": "23925654-63d7-4668-e8ba-910fbadc4274"
      },
      "execution_count": 61,
      "outputs": [
        {
          "output_type": "execute_result",
          "data": {
            "text/plain": [
              "True"
            ]
          },
          "metadata": {},
          "execution_count": 61
        }
      ]
    },
    {
      "cell_type": "markdown",
      "source": [
        "# **Dictionaries**"
      ],
      "metadata": {
        "id": "59vzVPaWIuTx"
      }
    },
    {
      "cell_type": "code",
      "source": [
        "notlar={\"ogrenci1\":80,\"ogrenci2\":100,\"ogrenci3\":60} #isimleri ile notları ayı yerde tutabiliyoruz "
      ],
      "metadata": {
        "id": "6GQVJ4GxIiwX"
      },
      "execution_count": 64,
      "outputs": []
    },
    {
      "cell_type": "code",
      "source": [
        "notlar[\"ogrenci2\"] #u şekilde çağırabiliyoruz "
      ],
      "metadata": {
        "colab": {
          "base_uri": "https://localhost:8080/"
        },
        "id": "EKrHPDFqJLMo",
        "outputId": "9393f16f-3d76-4edd-a680-2ab8959e6359"
      },
      "execution_count": 65,
      "outputs": [
        {
          "output_type": "execute_result",
          "data": {
            "text/plain": [
              "100"
            ]
          },
          "metadata": {},
          "execution_count": 65
        }
      ]
    },
    {
      "cell_type": "code",
      "source": [
        "ogrenciler = {\"Deniz\": {\"not\":80, \"ogrenci_no\":703}, \"Ege\":{\"not\":72, \"ogrenci_no\":408}, \"Gizem\": {\"not\":95, \"ogrenci_no\":690}} #iç içe olabiliyor\n",
        "ogrenciler[\"Ege\"]"
      ],
      "metadata": {
        "colab": {
          "base_uri": "https://localhost:8080/"
        },
        "id": "vH14lYOUJgYy",
        "outputId": "346ec633-8854-42c3-f5c8-cd78377fcc7f"
      },
      "execution_count": 66,
      "outputs": [
        {
          "output_type": "execute_result",
          "data": {
            "text/plain": [
              "{'not': 72, 'ogrenci_no': 408}"
            ]
          },
          "metadata": {},
          "execution_count": 66
        }
      ]
    },
    {
      "cell_type": "code",
      "source": [
        "ogrenciler[\"Ege\"][\"ogrenci_no\"] #key-value ile çalışıyor ogrenciler[2] gibi bir indeks sorgusu ile hata alınır"
      ],
      "metadata": {
        "colab": {
          "base_uri": "https://localhost:8080/"
        },
        "id": "lVe9ebBQJtbW",
        "outputId": "f6fc5d45-39c2-4da4-f32b-8f4d0cfd28da"
      },
      "execution_count": 67,
      "outputs": [
        {
          "output_type": "execute_result",
          "data": {
            "text/plain": [
              "408"
            ]
          },
          "metadata": {},
          "execution_count": 67
        }
      ]
    },
    {
      "cell_type": "code",
      "source": [
        "notlar[\"mert\"] =60 #eleman eklemek \n",
        "notlar"
      ],
      "metadata": {
        "colab": {
          "base_uri": "https://localhost:8080/"
        },
        "id": "3SHlB3WgJvye",
        "outputId": "7058d064-5549-48b9-bc8e-fd39170441ae"
      },
      "execution_count": 68,
      "outputs": [
        {
          "output_type": "execute_result",
          "data": {
            "text/plain": [
              "{'ogrenci1': 80, 'ogrenci2': 100, 'ogrenci3': 60, 'mert': 60}"
            ]
          },
          "metadata": {},
          "execution_count": 68
        }
      ]
    },
    {
      "cell_type": "code",
      "source": [
        "#eleman silmek ,  del komutu ile \n",
        "del notlar[\"mert\"]\n",
        "notlar"
      ],
      "metadata": {
        "colab": {
          "base_uri": "https://localhost:8080/"
        },
        "id": "tqMnr1k0KPzY",
        "outputId": "b1392f4b-aab5-42e9-ce36-3b56f1f9f8bb"
      },
      "execution_count": 69,
      "outputs": [
        {
          "output_type": "execute_result",
          "data": {
            "text/plain": [
              "{'ogrenci1': 80, 'ogrenci2': 100, 'ogrenci3': 60}"
            ]
          },
          "metadata": {},
          "execution_count": 69
        }
      ]
    },
    {
      "cell_type": "code",
      "source": [
        "\"ogrenci2\" in notlar #dic içinde varmı"
      ],
      "metadata": {
        "colab": {
          "base_uri": "https://localhost:8080/"
        },
        "id": "ciNXnPcnKZFy",
        "outputId": "2932a426-e2b3-4677-db01-756a03c4cba4"
      },
      "execution_count": 71,
      "outputs": [
        {
          "output_type": "execute_result",
          "data": {
            "text/plain": [
              "True"
            ]
          },
          "metadata": {},
          "execution_count": 71
        }
      ]
    },
    {
      "cell_type": "code",
      "source": [
        "#bos Dictionary\n",
        "d={} "
      ],
      "metadata": {
        "id": "tN6z1C2UKnyr"
      },
      "execution_count": 72,
      "outputs": []
    },
    {
      "cell_type": "code",
      "source": [],
      "metadata": {
        "id": "l9cIcKhQKxtN"
      },
      "execution_count": null,
      "outputs": []
    }
  ]
}