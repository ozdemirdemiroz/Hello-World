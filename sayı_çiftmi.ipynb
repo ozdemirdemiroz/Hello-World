{
  "nbformat": 4,
  "nbformat_minor": 0,
  "metadata": {
    "colab": {
      "provenance": [],
      "authorship_tag": "ABX9TyOFBxnklZ+Er7CRcVtaJgHU",
      "include_colab_link": true
    },
    "kernelspec": {
      "name": "python3",
      "display_name": "Python 3"
    },
    "language_info": {
      "name": "python"
    }
  },
  "cells": [
    {
      "cell_type": "markdown",
      "metadata": {
        "id": "view-in-github",
        "colab_type": "text"
      },
      "source": [
        "<a href=\"https://colab.research.google.com/github/ozdemirdemiroz/Hello-World/blob/main/say%C4%B1_%C3%A7iftmi.ipynb\" target=\"_parent\"><img src=\"https://colab.research.google.com/assets/colab-badge.svg\" alt=\"Open In Colab\"/></a>"
      ]
    },
    {
      "cell_type": "code",
      "execution_count": null,
      "metadata": {
        "id": "0INO4S7KeGPr"
      },
      "outputs": [],
      "source": [
        "x=int(input(\"sayı giriniz : \"))\n",
        "\n",
        "def ciftmi():\n",
        "  kalan=x%2\n",
        "  if kalan==0:\n",
        "    print(\"sayı çift\")\n",
        "    return\n",
        "  else:\n",
        "      print(\"sayı tek\")\n",
        "      return\n",
        "\n",
        "ciftmi()"
      ]
    }
  ]
}